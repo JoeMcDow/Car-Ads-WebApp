{
 "cells": [
  {
   "cell_type": "markdown",
   "metadata": {},
   "source": [
    "What is the purpose of our web app we're developing? \n",
    "Were creating a webb app to view the inventory of a car delership in an interactive way. "
   ]
  },
  {
   "cell_type": "markdown",
   "metadata": {},
   "source": [
    "Lets start with importing and analying the data "
   ]
  },
  {
   "cell_type": "markdown",
   "metadata": {},
   "source": [
    "\\"
   ]
  },
  {
   "cell_type": "code",
   "execution_count": 2,
   "metadata": {},
   "outputs": [],
   "source": [
    "%matplotlib inline"
   ]
  },
  {
   "cell_type": "code",
   "execution_count": 3,
   "metadata": {},
   "outputs": [
    {
     "data": {
      "text/plain": [
       "<contextlib.ExitStack at 0x1249fcc20>"
      ]
     },
     "execution_count": 3,
     "metadata": {},
     "output_type": "execute_result"
    }
   ],
   "source": [
    "import pandas as pd\n",
    "import numpy as np \n",
    "import streamlit as st\n",
    "import plotly.express as px\n",
    "import altair as al \n",
    "import matplotlib.pyplot as plt\n",
    "plt.ion()\n"
   ]
  },
  {
   "cell_type": "code",
   "execution_count": 4,
   "metadata": {},
   "outputs": [
    {
     "name": "stdout",
     "output_type": "stream",
     "text": [
      "       price  model_year                 model  condition  cylinders    fuel  \\\n",
      "27243   4250      2009.0            ford focus  excellent        4.0     gas   \n",
      "1753   15989      2016.0           kia sorento  excellent        4.0     gas   \n",
      "48711   4450      2006.0          jeep liberty       good        6.0     gas   \n",
      "22058   8500      2001.0       gmc sierra 1500  excellent        8.0     gas   \n",
      "12519   3500      2003.0            ford f-150       good        6.0     gas   \n",
      "6699    3000      2000.0  ford f250 super duty       good        8.0  diesel   \n",
      "12476  11988      2015.0       chevrolet cruze   like new        4.0     gas   \n",
      "41570  38900      2018.0         ford explorer   like new        6.0     gas   \n",
      "31321  28500      2013.0         jeep wrangler  excellent        6.0     gas   \n",
      "23198  12995      2013.0         dodge charger   like new        8.0     gas   \n",
      "\n",
      "       odometer transmission   type paint_color  is_4wd date_posted  \\\n",
      "27243       NaN    automatic  sedan       black     NaN  2018-07-21   \n",
      "1753    53993.0    automatic    SUV         NaN     NaN  2018-09-26   \n",
      "48711  171038.0    automatic    SUV       black     1.0  2018-05-18   \n",
      "22058  186000.0    automatic  truck      orange     1.0  2018-09-05   \n",
      "12519  162932.0    automatic  truck       white     NaN  2018-12-26   \n",
      "6699   434762.0    automatic  truck       brown     NaN  2019-01-10   \n",
      "12476   22000.0    automatic  sedan         red     NaN  2018-09-24   \n",
      "41570   17700.0    automatic    SUV        grey     1.0  2018-10-28   \n",
      "31321   35000.0       manual    SUV        grey     1.0  2019-03-02   \n",
      "23198   45976.0    automatic  sedan         NaN     NaN  2018-11-25   \n",
      "\n",
      "       days_listed  \n",
      "27243           42  \n",
      "1753            16  \n",
      "48711           11  \n",
      "22058           66  \n",
      "12519           60  \n",
      "6699            67  \n",
      "12476           79  \n",
      "41570           32  \n",
      "31321           28  \n",
      "23198           29  \n"
     ]
    }
   ],
   "source": [
    "car_ad_df = pd.read_csv(\"/Users/macos/Downloads/vehicles_us.csv\")\n",
    "\n",
    "print(car_ad_df.sample(10))\n",
    "\n"
   ]
  },
  {
   "cell_type": "code",
   "execution_count": 5,
   "metadata": {},
   "outputs": [
    {
     "name": "stdout",
     "output_type": "stream",
     "text": [
      "               price    model_year     cylinders       odometer   is_4wd  \\\n",
      "count   51525.000000  47906.000000  46265.000000   43633.000000  25572.0   \n",
      "mean    12132.464920   2009.750470      6.125235  115553.461738      1.0   \n",
      "std     10040.803015      6.282065      1.660360   65094.611341      0.0   \n",
      "min         1.000000   1908.000000      3.000000       0.000000      1.0   \n",
      "25%      5000.000000   2006.000000      4.000000   70000.000000      1.0   \n",
      "50%      9000.000000   2011.000000      6.000000  113000.000000      1.0   \n",
      "75%     16839.000000   2014.000000      8.000000  155000.000000      1.0   \n",
      "max    375000.000000   2019.000000     12.000000  990000.000000      1.0   \n",
      "\n",
      "       days_listed  \n",
      "count  51525.00000  \n",
      "mean      39.55476  \n",
      "std       28.20427  \n",
      "min        0.00000  \n",
      "25%       19.00000  \n",
      "50%       33.00000  \n",
      "75%       53.00000  \n",
      "max      271.00000  \n",
      "<class 'pandas.core.frame.DataFrame'>\n",
      "RangeIndex: 51525 entries, 0 to 51524\n",
      "Data columns (total 13 columns):\n",
      " #   Column        Non-Null Count  Dtype  \n",
      "---  ------        --------------  -----  \n",
      " 0   price         51525 non-null  int64  \n",
      " 1   model_year    47906 non-null  float64\n",
      " 2   model         51525 non-null  object \n",
      " 3   condition     51525 non-null  object \n",
      " 4   cylinders     46265 non-null  float64\n",
      " 5   fuel          51525 non-null  object \n",
      " 6   odometer      43633 non-null  float64\n",
      " 7   transmission  51525 non-null  object \n",
      " 8   type          51525 non-null  object \n",
      " 9   paint_color   42258 non-null  object \n",
      " 10  is_4wd        25572 non-null  float64\n",
      " 11  date_posted   51525 non-null  object \n",
      " 12  days_listed   51525 non-null  int64  \n",
      "dtypes: float64(4), int64(2), object(7)\n",
      "memory usage: 5.1+ MB\n",
      "None\n"
     ]
    }
   ],
   "source": [
    "print(car_ad_df.describe())\n",
    "print(car_ad_df.info())"
   ]
  },
  {
   "cell_type": "code",
   "execution_count": 6,
   "metadata": {},
   "outputs": [
    {
     "name": "stdout",
     "output_type": "stream",
     "text": [
      "['SUV' 'pickup' 'sedan' 'truck' 'coupe' 'van' 'convertible' 'hatchback'\n",
      " 'wagon' 'mini-van' 'other' 'offroad' 'bus']\n"
     ]
    }
   ],
   "source": [
    "print(car_ad_df['type'].unique())"
   ]
  },
  {
   "cell_type": "markdown",
   "metadata": {},
   "source": [
    "#SDA analysis & questions \n",
    "\n",
    "How many cars under 1ook miles are in excellent condition? \n",
    "How many cars fit this crtieria: the model year 2010 and over, are an automatic transmission, are a truck, suv, or pickup? \n",
    "Whats the average amount of days convertibles are listed? \n",
    "\n",
    "Hypothesis: there are more cars under 100k miles that are in excellent condition. \n",
    "theory: there is more cars under 100k miles in excellent condition. "
   ]
  },
  {
   "cell_type": "markdown",
   "metadata": {},
   "source": [
    "#these questions are sample questions to be answered using SDA; histograms, bar plots, visualivation of data. "
   ]
  },
  {
   "cell_type": "markdown",
   "metadata": {},
   "source": [
    "Question 1.) How many cars over 100k miles are in excelllent condition? "
   ]
  },
  {
   "cell_type": "code",
   "execution_count": 7,
   "metadata": {},
   "outputs": [
    {
     "name": "stdout",
     "output_type": "stream",
     "text": [
      "       price  model_year                     model  condition  cylinders fuel  \\\n",
      "26638  14999      2009.0        chevrolet suburban       good        8.0  gas   \n",
      "29821   5299      2014.0                ford focus       good        4.0  gas   \n",
      "26172   3495      2002.0             nissan sentra  excellent        4.0  gas   \n",
      "18024  15995      2016.0              nissan rogue  excellent        4.0  gas   \n",
      "157    26700      2017.0  ford mustang gt coupe 2d       good        8.0  gas   \n",
      "\n",
      "       odometer transmission   type paint_color  is_4wd date_posted  \\\n",
      "26638  140231.0    automatic    SUV       black     1.0  2019-02-24   \n",
      "29821  130455.0    automatic  sedan       white     NaN  2019-03-30   \n",
      "26172  139537.0    automatic  sedan         red     NaN  2018-07-23   \n",
      "18024   18000.0    automatic    SUV         NaN     NaN  2018-12-18   \n",
      "157     26192.0        other  coupe       black     NaN  2019-02-14   \n",
      "\n",
      "       days_listed  \n",
      "26638           34  \n",
      "29821           23  \n",
      "26172           32  \n",
      "18024           28  \n",
      "157             17  \n"
     ]
    }
   ],
   "source": [
    "print(car_ad_df.sample(5))"
   ]
  },
  {
   "cell_type": "code",
   "execution_count": 8,
   "metadata": {},
   "outputs": [
    {
     "data": {
      "image/png": "[encoded data removed]",
      "text/plain": [
       "<Figure size 640x480 with 1 Axes>"
      ]
     },
     "metadata": {},
     "output_type": "display_data"
    }
   ],
   "source": [
    "under_50 = car_ad_df[(car_ad_df['condition'] == 'excellent') & (car_ad_df['odometer'] >= 100000)]\n",
    "\n",
    "grouped = under_50.groupby('condition')['odometer'].mean()\n",
    "\n",
    "# Step 3: Plot the bar chart\n",
    "grouped.plot(kind='bar', alpha=0.7, color='skyblue')\n",
    "plt.title('Average Odometer Reading for Excellent Condition Cars (<= 100000)')\n",
    "plt.xlabel('Condition')\n",
    "plt.ylabel('Average Odometer Reading')\n",
    "plt.xticks(rotation=45)\n",
    "plt.show()\n",
    "\n",
    "\n",
    "\n"
   ]
  },
  {
   "cell_type": "code",
   "execution_count": 27,
   "metadata": {},
   "outputs": [
    {
     "name": "stdout",
     "output_type": "stream",
     "text": [
      "price  model_year  model                 condition  cylinders  fuel    odometer  transmission  type   paint_color  is_4wd  date_posted  days_listed  manufacturer\n",
      "1      2010.0      ford f350 super duty  excellent  8.0        diesel  139486.0  automatic     truck  black        1.0     2018-11-18   9            ford            1\n",
      "       2015.0      ram 2500              excellent  6.0        diesel  103549.0  automatic     truck  red          1.0     2018-07-31   45           ram             1\n",
      "14900  2013.0      ford explorer         excellent  6.0        gas     103540.0  automatic     SUV    white        1.0     2019-02-13   25           ford            1\n",
      "       2015.0      buick enclave         excellent  6.0        gas     104714.0  automatic     SUV    silver       1.0     2018-09-05   43           buick           1\n",
      "       2016.0      chevrolet equinox     excellent  6.0        gas     108180.0  automatic     sedan  blue         1.0     2018-08-06   30           chevrolet       1\n",
      "                                                                                                                                                                    ..\n",
      "8900   2011.0      honda cr-v            excellent  4.0        gas     117000.0  automatic     SUV    brown        1.0     2018-05-12   40           honda           1\n",
      "                                                                       118000.0  automatic     SUV    silver       1.0     2019-03-30   32           honda           1\n",
      "                                                                       123200.0  automatic     SUV    blue         1.0     2018-12-17   18           honda           1\n",
      "                   toyota rav4           excellent  4.0        gas     146427.0  automatic     SUV    silver       1.0     2018-10-22   24           toyota          1\n",
      "43000  2016.0      ford f350 super duty  excellent  8.0        diesel  130000.0  automatic     truck  brown        1.0     2019-01-29   88           ford            1\n",
      "Name: count, Length: 4096, dtype: int64\n"
     ]
    },
    {
     "data": {
      "image/png": "[encoded data removed]",
      "text/plain": [
       "<Figure size 640x480 with 1 Axes>"
      ]
     },
     "metadata": {},
     "output_type": "display_data"
    }
   ],
   "source": [
    "#the actual value count for excellent condition cars over 100k miles\n",
    "cars_under100 = car_ad_df[(car_ad_df['condition'] == 'excellent') & (car_ad_df['odometer'] >= 100000)].value_counts()\n",
    "\n",
    "print(cars_under100)\n",
    "\n",
    "\n",
    "# Create a scatter plot for 'odometer' vs 'price'\n",
    "car_ad_df.plot(kind='scatter', x='odometer', y='price', alpha=0.5)\n",
    "\n",
    "# Optional: Add titles and labels\n",
    "plt.title('Scatter Plot: Odometer vs Price')\n",
    "plt.xlabel('Odometer Reading')\n",
    "plt.ylabel('Price')\n",
    "\n",
    "# Display the plot\n",
    "plt.show()\n"
   ]
  },
  {
   "cell_type": "markdown",
   "metadata": {},
   "source": [
    "Question 1.) How many cars over 100k miles are in excelllent condition? \n",
    "Answer: there are 4,096 cars that are over 100k miles & in excellent condition out of the 51,525 cars in our database."
   ]
  },
  {
   "cell_type": "markdown",
   "metadata": {},
   "source": [
    "Question 2.) How many cars fit this crtieria: the model year 2010 and over, are a manual transmission, are a truck, suv, or pickup?"
   ]
  },
  {
   "cell_type": "code",
   "execution_count": 10,
   "metadata": {},
   "outputs": [
    {
     "data": {
      "image/png": "[encoded data removed]",
      "text/plain": [
       "<Figure size 640x480 with 1 Axes>"
      ]
     },
     "metadata": {},
     "output_type": "display_data"
    }
   ],
   "source": [
    "cars_q2 = car_ad_df[\n",
    "    (car_ad_df['model_year'] == 2010) & \n",
    "    (car_ad_df['transmission'] == 'manual') & \n",
    "    (car_ad_df['type'].isin(['SUV', 'truck', 'pickup']))\n",
    "]\n",
    "\n",
    "type_counts = cars_q2['type'].value_counts()\n",
    "\n",
    "# Plot a bar chart\n",
    "type_counts.plot(kind='bar', color='skyblue', alpha=0.7)\n",
    "plt.title('Count of Vehicles by Type (2010, Manual Transmission)')\n",
    "plt.xlabel('Vehicle Type')\n",
    "plt.ylabel('Count')\n",
    "plt.xticks(rotation=45)\n",
    "plt.show()"
   ]
  },
  {
   "cell_type": "code",
   "execution_count": 11,
   "metadata": {},
   "outputs": [
    {
     "name": "stdout",
     "output_type": "stream",
     "text": [
      "62\n"
     ]
    }
   ],
   "source": [
    "print(cars_q2.shape[0])"
   ]
  },
  {
   "cell_type": "markdown",
   "metadata": {},
   "source": [
    "Question 2.) How many cars fit this crtieria: the model year 2010 and over, are a manual transmission, are a truck, suv, or pickup?\n",
    "Answer: There are 62 cars in our database that fit this criteria. "
   ]
  },
  {
   "cell_type": "markdown",
   "metadata": {},
   "source": [
    "Question 3.) What's the average amount of days convertibles are listed? \n"
   ]
  },
  {
   "cell_type": "code",
   "execution_count": 12,
   "metadata": {},
   "outputs": [
    {
     "name": "stdout",
     "output_type": "stream",
     "text": [
      "39.19282511210762\n"
     ]
    }
   ],
   "source": [
    "cars_q3 = car_ad_df[car_ad_df['type'] == 'convertible'] \n",
    "cars_q3_av = cars_q3['days_listed'].mean()\n",
    "\n",
    "print(cars_q3_av)\n",
    "\n"
   ]
  },
  {
   "cell_type": "markdown",
   "metadata": {},
   "source": [
    "Question 3.) What's the average amount of days convertibles are listed? \n",
    "Answer: Convertible cars are listed in the database for an average of 39 days. "
   ]
  },
  {
   "cell_type": "code",
   "execution_count": 13,
   "metadata": {},
   "outputs": [
    {
     "name": "stdout",
     "output_type": "stream",
     "text": [
      "44100     1900\n",
      "37452    14999\n",
      "4664      3700\n",
      "20717     5500\n",
      "8846      5200\n",
      "Name: price, dtype: int64\n"
     ]
    }
   ],
   "source": [
    "print(car_ad_df['price'].sample(5))"
   ]
  },
  {
   "cell_type": "markdown",
   "metadata": {},
   "source": [
    "Question 4.) Hypothesis: there are more cars under 100k miles that are in excellent condition. \n",
    "theory: there is more cars under 100k miles in excellent condition. "
   ]
  },
  {
   "cell_type": "code",
   "execution_count": 14,
   "metadata": {},
   "outputs": [],
   "source": [
    "#cars under 100k variable under_50\n",
    "\n",
    "# make a second cariable for the average mileages on this variable \n",
    "\n",
    "#cars_under_avr\n",
    "\n",
    "\n",
    "alpha = 0.05 \n",
    "\n"
   ]
  },
  {
   "cell_type": "code",
   "execution_count": 15,
   "metadata": {},
   "outputs": [
    {
     "name": "stdout",
     "output_type": "stream",
     "text": [
      "148227.88414851838\n"
     ]
    }
   ],
   "source": [
    "car_under_avr = under_50['odometer'].mean()\n",
    "print(car_under_avr)"
   ]
  },
  {
   "cell_type": "code",
   "execution_count": 16,
   "metadata": {},
   "outputs": [],
   "source": [
    "from scipy import stats as st\n",
    "import numpy as np"
   ]
  },
  {
   "cell_type": "code",
   "execution_count": 17,
   "metadata": {},
   "outputs": [],
   "source": [
    "under_50_numeric = under_50['odometer'] \n",
    "under_50_clean = under_50_numeric.dropna()\n"
   ]
  },
  {
   "cell_type": "code",
   "execution_count": 18,
   "metadata": {},
   "outputs": [
    {
     "name": "stdout",
     "output_type": "stream",
     "text": [
      "p-value: 0.5\n",
      "We can't reject the null hypothesis: there is more cars under 100k miles in excellent condition.\n"
     ]
    }
   ],
   "source": [
    "# Running a t-test to test my hypothesis \n",
    "\n",
    "results_cars = st.ttest_1samp(under_50_clean, car_under_avr)\n",
    "# use the method st.ttest_1samp\n",
    "\n",
    "print('p-value:', results_cars.pvalue / 2)\n",
    "\n",
    "if (results_cars.pvalue /2 < alpha) and (under_50_numeric.mean() < car_under_avr):\n",
    "    print(\n",
    "        \"We reject the null hypothesis: there is more cars under 100k miles in excellent condition.\"\n",
    "    )\n",
    "else:\n",
    "    print(\n",
    "        \"We can't reject the null hypothesis: there is more cars under 100k miles in excellent condition.\"\n",
    "    )"
   ]
  },
  {
   "cell_type": "code",
   "execution_count": 19,
   "metadata": {},
   "outputs": [
    {
     "name": "stdout",
     "output_type": "stream",
     "text": [
      "price  model_year  model                 condition  cylinders  fuel    odometer  transmission  type   paint_color  is_4wd  date_posted  days_listed\n",
      "1      2010.0      ford f350 super duty  excellent  8.0        diesel  139486.0  automatic     truck  black        1.0     2018-11-18   9              1\n",
      "       2015.0      ram 2500              excellent  6.0        diesel  103549.0  automatic     truck  red          1.0     2018-07-31   45             1\n",
      "14900  2013.0      ford explorer         excellent  6.0        gas     103540.0  automatic     SUV    white        1.0     2019-02-13   25             1\n",
      "       2015.0      buick enclave         excellent  6.0        gas     104714.0  automatic     SUV    silver       1.0     2018-09-05   43             1\n",
      "       2016.0      chevrolet equinox     excellent  6.0        gas     108180.0  automatic     sedan  blue         1.0     2018-08-06   30             1\n",
      "Name: count, dtype: int64\n"
     ]
    }
   ],
   "source": [
    "print(cars_under100.head())"
   ]
  },
  {
   "cell_type": "markdown",
   "metadata": {},
   "source": [
    "Question 4.) Hypothesis: there are more cars under 100k miles that are in excellent condition. \n",
    "theory: there is more cars under 100k miles in excellent condition. \n",
    "\n",
    "Answer: We can't reject the null hypothesis: there is more cars under 100k miles in excellent condition."
   ]
  },
  {
   "cell_type": "code",
   "execution_count": null,
   "metadata": {},
   "outputs": [],
   "source": [
    "##WebAppCode\n",
    "###\n",
    "\n",
    "\n",
    "import streamlit as st\n",
    "import pandas as pd\n",
    "import plotly.express as px\n",
    "import plotly.graph_objects as go\n",
    "\n",
    "from PIL import Image\n",
    "\n",
    "#############\n",
    "# Page Title\n",
    "############\n",
    "\n",
    "image = Image.open('/Users/macos/Downloads/JOJO’s DEALER LIST.png')\n",
    "\n",
    "st.markdown(\"\"\"\n",
    "#Our Car Dealership \n",
    "         a simple sda project on a car dealership\n",
    "         \n",
    "         \n",
    "         \"\"\")\n",
    "\n",
    "##################\n",
    "\n",
    "df = pd.read_csv('/Users/macos/Downloads/vehicles_us.csv')\n",
    "df['manufacturer'] = df['model'].apply(lambda x: x.split()[0])\n",
    "\n",
    "st.header('Data viewer')\n",
    "show_manuf_1k_ads = st.checkbox('Include manufacturers with less than 1000 ads')\n",
    "if not show_manuf_1k_ads:\n",
    "    df = df.groupby('manufacturer').filter(lambda x: len(x) > 1000)\n",
    "\n",
    "st.dataframe(df)\n",
    "st.header('Vehicle types by manufacturer')\n",
    "st.write(px.histogram(df, x='manufacturer', color='type'))\n",
    "st.header('Histogram of `condition` vs `model_year`')\n",
    "\n",
    "# -------------------------------------------------------\n",
    "# histograms in plotly:\n",
    "# fig = go.Figure()\n",
    "# fig.add_trace(go.Histogram(x=df[df['condition']=='good']['model_year'], name='good'))\n",
    "# fig.add_trace(go.Histogram(x=df[df['condition']=='excellent']['model_year'], name='excellent'))\n",
    "# fig.update_layout(barmode='stack')\n",
    "# st.write(fig)\n",
    "# works, but too many lines of code\n",
    "# -------------------------------------------------------\n",
    "\n",
    "# histograms in plotly_express:\n",
    "st.write(px.histogram(df, x='model_year', color='condition'))\n",
    "# a lot more concise!\n",
    "# -------------------------------------------------------\n",
    "\n",
    "st.header('Compare price distribution between manufacturers')\n",
    "manufac_list = sorted(df['manufacturer'].unique())\n",
    "manufacturer_1 = st.selectbox('Select manufacturer 1',\n",
    "                              manufac_list, index=manufac_list.index('chevrolet'))\n",
    "\n",
    "manufacturer_2 = st.selectbox('Select manufacturer 2',\n",
    "                              manufac_list, index=manufac_list.index('hyundai'))\n",
    "mask_filter = (df['manufacturer'] == manufacturer_1) | (df['manufacturer'] == manufacturer_2)\n",
    "df_filtered = df[mask_filter]\n",
    "normalize = st.checkbox('Normalize histogram', value=True)\n",
    "if normalize:\n",
    "    histnorm = 'percent'\n",
    "else:\n",
    "    histnorm = None\n",
    "st.write(px.histogram(df_filtered,\n",
    "                      x='price',\n",
    "                      nbins=30,\n",
    "                      color='manufacturer',\n",
    "                      histnorm=histnorm,\n",
    "                      barmode='overlay'))\n",
    "\n",
    "########\n",
    "#New Web App Function \n",
    "########\n",
    "data_comp = {\n",
    "    'model_year': df['model_year'],\n",
    "    'odometer' : df['odometer']\n",
    "\n",
    "\n",
    "}\n",
    "\n",
    "df_comp = pd.DataFrame(data_comp)\n",
    "\n",
    "# Streamlit App\n",
    "st.header('Compare Vehicle Year to Mileage')\n",
    "\n",
    "\n",
    "# Dropdown for selecting vehicle year\n",
    "veh_list = sorted(df_comp['model_year'].unique())\n",
    "selected_year = st.selectbox('Select vehicle year', veh_list)\n",
    "\n",
    "# Filter the data for the selected year\n",
    "filtered_df_comp = df_comp[df_comp['model_year'] == selected_year]\n",
    "\n",
    "# Display filtered data\n",
    "st.subheader(f\"Vehicles from year {selected_year}\")\n",
    "st.write(filtered_df_comp)\n",
    "\n",
    "# Categorize and display odometer readings\n",
    "st.subheader(\"Mileage Categories\")\n",
    "for index, row in filtered_df_comp.iterrows():\n",
    "    mileage = row['odometer']\n",
    "    if mileage <= 10000:\n",
    "        st.write(f\"Vehicle with mileage {mileage} miles: **Under 10k**\")\n",
    "    elif mileage <= 35000:\n",
    "        st.write(f\"Vehicle with mileage {mileage} miles: **Under 35k**\")\n",
    "    elif mileage <= 50000:\n",
    "        st.write(f\"Vehicle with mileage {mileage} miles: **Under 50k**\")\n",
    "    elif mileage <= 75000:\n",
    "        st.write(f\"Vehicle with mileage {mileage} miles: **Under 75k**\")  \n",
    "    elif mileage <= 100000:\n",
    "        st.write(f\"Vehicle with mileage {mileage} miles: **Under 100k**\")      \n",
    "    else:\n",
    "        st.write(f\"Vehicle with mileage {mileage} miles: **Above 100k**\")\n",
    "\n",
    "\n",
    "\n",
    "###New Web Function###\n",
    "\n",
    "\n",
    "\n",
    "\n",
    "# Streamlit App\n",
    "st.title(\"Vehicle Database Analysis\")\n",
    "\n",
    "# Dropdown for selecting vehicle type\n",
    "vehicle_types_ = df['type'].unique()\n",
    "selected_type_ = st.selectbox(\"Select Vehicle Type\", vehicle_types_, index=0)\n",
    "\n",
    "# Filter the DataFrame based on the selected type\n",
    "filtered_df_no = df[df['type'] == selected_type_]\n",
    "\n",
    "# Display filtered data\n",
    "st.subheader(f\"Vehicles of type '{selected_type_}'\")\n",
    "st.write(filtered_df_no)\n",
    "\n",
    "# Create a bar chart to display the count of vehicles for each model year\n",
    "st.subheader(\"Vehicle Count by Model Year\")\n",
    "if not filtered_df_no.empty:\n",
    "    vehicle_count = filtered_df_no['model_year'].value_counts().reset_index()\n",
    "    vehicle_count.columns = ['model_year', 'count']\n",
    "\n",
    "    # Plot using Plotly\n",
    "    fig = px.bar(\n",
    "        vehicle_count,\n",
    "        x='model_year',\n",
    "        y='count',\n",
    "        title=f\"Number of {selected_type_}s by Model Year\",\n",
    "        labels={'model_year': 'Model Year', 'count': 'Number of Vehicles'},\n",
    "    )\n",
    "    st.plotly_chart(fig)\n",
    "else:\n",
    "    st.write(f\"No vehicles of type '{selected_type_}' found in the database.\")\n",
    "\n",
    "    \n"
   ]
  },
  {
   "cell_type": "code",
   "execution_count": null,
   "metadata": {},
   "outputs": [
    {
     "name": "stdout",
     "output_type": "stream",
     "text": [
      "   price  model_year           model  condition  cylinders fuel  odometer  \\\n",
      "1  25500         NaN      ford f-150       good        6.0  gas   88705.0   \n",
      "2   5500      2013.0  hyundai sonata   like new        4.0  gas  110000.0   \n",
      "3   1500      2003.0      ford f-150       fair        8.0  gas       NaN   \n",
      "6  12990      2015.0    toyota camry  excellent        4.0  gas   79212.0   \n",
      "7  15990      2013.0     honda pilot  excellent        6.0  gas  109473.0   \n",
      "\n",
      "  transmission    type paint_color  is_4wd date_posted  days_listed  \\\n",
      "1    automatic  pickup       white     1.0  2018-10-19           50   \n",
      "2    automatic   sedan         red     NaN  2019-02-07           79   \n",
      "3    automatic  pickup         NaN     NaN  2019-03-22            9   \n",
      "6    automatic   sedan       white     NaN  2018-12-27           73   \n",
      "7    automatic     SUV       black     1.0  2019-01-07           68   \n",
      "\n",
      "  manufacturer  \n",
      "1         ford  \n",
      "2      hyundai  \n",
      "3         ford  \n",
      "6       toyota  \n",
      "7        honda  \n"
     ]
    }
   ],
   "source": [
    "print(df.head())"
   ]
  }
 ],
 "metadata": {
  "kernelspec": {
   "display_name": "Car_Ads_WebApp",
   "language": "python",
   "name": "python3"
  },
  "language_info": {
   "codemirror_mode": {
    "name": "ipython",
    "version": 3
   },
   "file_extension": ".py",
   "mimetype": "text/x-python",
   "name": "python",
   "nbconvert_exporter": "python",
   "pygments_lexer": "ipython3",
   "version": "3.12.7"
  }
 },
 "nbformat": 4,
 "nbformat_minor": 2
}
