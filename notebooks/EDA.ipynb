{
 "cells": [
  {
   "cell_type": "markdown",
   "metadata": {},
   "source": [
    "What is the purpose of our web app we're developing? \n",
    "Were creating a webb app to view the inventory of a car delership in an interactive way. "
   ]
  },
  {
   "cell_type": "markdown",
   "metadata": {},
   "source": [
    "Lets start with importing and analying the data "
   ]
  },
  {
   "cell_type": "markdown",
   "metadata": {},
   "source": [
    "\\"
   ]
  },
  {
   "cell_type": "code",
   "execution_count": 49,
   "metadata": {},
   "outputs": [],
   "source": [
    "%matplotlib inline"
   ]
  },
  {
   "cell_type": "code",
   "execution_count": 50,
   "metadata": {},
   "outputs": [
    {
     "data": {
      "text/plain": [
       "<contextlib.ExitStack at 0x13026eb70>"
      ]
     },
     "execution_count": 50,
     "metadata": {},
     "output_type": "execute_result"
    }
   ],
   "source": [
    "import pandas as pd\n",
    "import numpy as np \n",
    "import streamlit as st\n",
    "import plotly.express as px\n",
    "import altair as al \n",
    "import matplotlib.pyplot as plt\n",
    "plt.ion()\n"
   ]
  },
  {
   "cell_type": "code",
   "execution_count": null,
   "metadata": {},
   "outputs": [
    {
     "name": "stdout",
     "output_type": "stream",
     "text": [
      "       price  model_year                        model  condition  cylinders  \\\n",
      "24897  29980      2016.0      jeep wrangler unlimited  excellent        6.0   \n",
      "4653    6000      1995.0                jeep wrangler       fair        4.0   \n",
      "7601    5500      1990.0                     ram 3500       good        6.0   \n",
      "16712  29875      2018.0  ford f150 supercrew cab xlt   like new        6.0   \n",
      "4466   14995      2011.0                  ford ranger  excellent        6.0   \n",
      "\n",
      "         fuel  odometer transmission         type paint_color  is_4wd  \\\n",
      "24897     gas       NaN    automatic  convertible       white     1.0   \n",
      "4653      gas  129450.0       manual          SUV         NaN     1.0   \n",
      "7601   diesel  206191.0       manual        truck       brown     NaN   \n",
      "16712   other   11132.0    automatic        truck        blue     1.0   \n",
      "4466      gas       NaN    automatic        truck        grey     1.0   \n",
      "\n",
      "      date_posted  days_listed  \n",
      "24897  2018-08-27           29  \n",
      "4653   2019-01-24           22  \n",
      "7601   2018-09-17           36  \n",
      "16712  2018-12-05           44  \n",
      "4466   2018-11-17           75  \n"
     ]
    }
   ],
   "source": [
    "#importing, dropping duplicated, and printing a small sample \n",
    "car_ad_df = pd.read_csv(\"vehicles_us.csv\")\n",
    "\n",
    "car_ad_df = car_ad_df.drop_duplicates()\n",
    "\n",
    "\n",
    "print(car_ad_df.sample(5))\n",
    "\n"
   ]
  },
  {
   "cell_type": "code",
   "execution_count": 52,
   "metadata": {},
   "outputs": [
    {
     "name": "stdout",
     "output_type": "stream",
     "text": [
      "price               0\n",
      "model_year       3619\n",
      "model               0\n",
      "condition           0\n",
      "cylinders        5260\n",
      "fuel                0\n",
      "odometer         7892\n",
      "transmission        0\n",
      "type                0\n",
      "paint_color      9267\n",
      "is_4wd          25953\n",
      "date_posted         0\n",
      "days_listed         0\n",
      "dtype: int64\n"
     ]
    }
   ],
   "source": [
    "#checking to see how many Nan values are present in database\n",
    "print(car_ad_df.isnull().sum())"
   ]
  },
  {
   "cell_type": "markdown",
   "metadata": {},
   "source": [
    "#Has quite a bit of missing values in severeal differnet columns \n",
    "#Dont want to erase the extire row or column as there may be important information in the associated row or columns \n",
    "#for all the numerical columns ill be replaceing the 'Nan' value with 0, and for the string column/s I'll be replacing the Nan value with \"Unkown "
   ]
  },
  {
   "cell_type": "code",
   "execution_count": 53,
   "metadata": {},
   "outputs": [],
   "source": [
    "car_ad_df['model_year'] = car_ad_df['model_year'].fillna(0)\n",
    "car_ad_df['cylinders'] = car_ad_df['cylinders'].fillna(0)\n",
    "car_ad_df['odometer'] = car_ad_df['odometer'].fillna(0)\n",
    "car_ad_df['paint_color'] = car_ad_df['paint_color'].fillna(\"Unkown\")\n",
    "car_ad_df['is_4wd'] = car_ad_df['is_4wd'].fillna(0)"
   ]
  },
  {
   "cell_type": "code",
   "execution_count": 54,
   "metadata": {},
   "outputs": [
    {
     "name": "stdout",
     "output_type": "stream",
     "text": [
      "               price    model_year     cylinders       odometer        is_4wd  \\\n",
      "count   51525.000000  51525.000000  51525.000000   51525.000000  51525.000000   \n",
      "mean    12132.464920   1868.590121      5.499932   97854.326948      0.496303   \n",
      "std     10040.803015    513.626950      2.431985   72940.007970      0.499991   \n",
      "min         1.000000      0.000000      0.000000       0.000000      0.000000   \n",
      "25%      5000.000000   2005.000000      4.000000   35896.000000      0.000000   \n",
      "50%      9000.000000   2010.000000      6.000000   99114.000000      0.000000   \n",
      "75%     16839.000000   2014.000000      8.000000  146541.000000      1.000000   \n",
      "max    375000.000000   2019.000000     12.000000  990000.000000      1.000000   \n",
      "\n",
      "       days_listed  \n",
      "count  51525.00000  \n",
      "mean      39.55476  \n",
      "std       28.20427  \n",
      "min        0.00000  \n",
      "25%       19.00000  \n",
      "50%       33.00000  \n",
      "75%       53.00000  \n",
      "max      271.00000  \n",
      "<class 'pandas.core.frame.DataFrame'>\n",
      "RangeIndex: 51525 entries, 0 to 51524\n",
      "Data columns (total 13 columns):\n",
      " #   Column        Non-Null Count  Dtype  \n",
      "---  ------        --------------  -----  \n",
      " 0   price         51525 non-null  int64  \n",
      " 1   model_year    51525 non-null  float64\n",
      " 2   model         51525 non-null  object \n",
      " 3   condition     51525 non-null  object \n",
      " 4   cylinders     51525 non-null  float64\n",
      " 5   fuel          51525 non-null  object \n",
      " 6   odometer      51525 non-null  float64\n",
      " 7   transmission  51525 non-null  object \n",
      " 8   type          51525 non-null  object \n",
      " 9   paint_color   51525 non-null  object \n",
      " 10  is_4wd        51525 non-null  float64\n",
      " 11  date_posted   51525 non-null  object \n",
      " 12  days_listed   51525 non-null  int64  \n",
      "dtypes: float64(4), int64(2), object(7)\n",
      "memory usage: 5.1+ MB\n",
      "None\n"
     ]
    }
   ],
   "source": [
    "print(car_ad_df.describe())\n",
    "print(car_ad_df.info())"
   ]
  },
  {
   "cell_type": "code",
   "execution_count": 55,
   "metadata": {},
   "outputs": [
    {
     "name": "stdout",
     "output_type": "stream",
     "text": [
      "['SUV' 'pickup' 'sedan' 'truck' 'coupe' 'van' 'convertible' 'hatchback'\n",
      " 'wagon' 'mini-van' 'other' 'offroad' 'bus']\n",
      "['good' 'like new' 'fair' 'excellent' 'salvage' 'new']\n"
     ]
    }
   ],
   "source": [
    "print(car_ad_df['type'].unique())\n",
    "print(car_ad_df['condition'].unique())"
   ]
  },
  {
   "cell_type": "markdown",
   "metadata": {},
   "source": [
    "#SDA analysis & questions \n",
    "\n",
    "How many cars under 1ook miles are in excellent condition? \n",
    "How many cars fit this crtieria: the model year 2010 and over, are an automatic transmission, are a truck, suv, or pickup? \n",
    "Whats the average amount of days convertibles are listed? \n",
    "\n",
    "Hypothesis: there are more cars under 100k miles that are in excellent condition. \n",
    "theory: there is more cars under 100k miles in excellent condition. "
   ]
  },
  {
   "cell_type": "markdown",
   "metadata": {},
   "source": [
    "#these questions are sample questions to be answered using SDA; histograms, bar plots, visualivation of data. "
   ]
  },
  {
   "cell_type": "markdown",
   "metadata": {},
   "source": [
    "Question 1.) How many cars over 100k miles are in excelllent condition? "
   ]
  },
  {
   "cell_type": "code",
   "execution_count": 56,
   "metadata": {},
   "outputs": [
    {
     "name": "stdout",
     "output_type": "stream",
     "text": [
      "       price  model_year                model  condition  cylinders fuel  \\\n",
      "23141   4899      2005.0  jeep grand cherokee  excellent        6.0  gas   \n",
      "17020  15000      2008.0      gmc sierra 1500       good        0.0  gas   \n",
      "16351   6500      2010.0        buick enclave       good        6.0  gas   \n",
      "40803   1800      1995.0             ram 1500       good        8.0  gas   \n",
      "23212   3495      2003.0       subaru outback       good        4.0  gas   \n",
      "\n",
      "       odometer transmission    type paint_color  is_4wd date_posted  \\\n",
      "23141       0.0    automatic     SUV      Unkown     1.0  2018-06-25   \n",
      "17020       0.0    automatic   truck        blue     1.0  2019-01-16   \n",
      "16351  143605.0    automatic     SUV      silver     0.0  2018-09-20   \n",
      "40803  221000.0    automatic  pickup         red     1.0  2019-03-29   \n",
      "23212  144836.0    automatic   wagon      silver     1.0  2018-08-18   \n",
      "\n",
      "       days_listed  \n",
      "23141           14  \n",
      "17020           83  \n",
      "16351           49  \n",
      "40803           25  \n",
      "23212           14  \n"
     ]
    }
   ],
   "source": [
    "print(car_ad_df.sample(5))"
   ]
  },
  {
   "cell_type": "code",
   "execution_count": 57,
   "metadata": {},
   "outputs": [
    {
     "data": {
      "image/png": "[encoded data removed]",
      "text/plain": [
       "<Figure size 640x480 with 1 Axes>"
      ]
     },
     "metadata": {},
     "output_type": "display_data"
    }
   ],
   "source": [
    "under_50 = car_ad_df[(car_ad_df['condition'] == 'excellent') & (car_ad_df['odometer'] >= 100000)]\n",
    "\n",
    "grouped = under_50.groupby('condition')['odometer'].mean()\n",
    "\n",
    "# Step 3: Plot the bar chart\n",
    "grouped.plot(kind='bar', alpha=0.7, color='skyblue')\n",
    "plt.title('Average Odometer Reading for Excellent Condition Cars (<= 100000)')\n",
    "plt.xlabel('Condition')\n",
    "plt.ylabel('Average Odometer Reading')\n",
    "plt.xticks(rotation=45)\n",
    "plt.show()\n",
    "\n",
    "\n",
    "\n"
   ]
  },
  {
   "cell_type": "code",
   "execution_count": 58,
   "metadata": {},
   "outputs": [
    {
     "name": "stdout",
     "output_type": "stream",
     "text": [
      "price  model_year  model                condition  cylinders  fuel  odometer  transmission  type      paint_color  is_4wd  date_posted  days_listed\n",
      "1      0.0         chevrolet silverado  excellent  8.0        gas   140582.0  automatic     truck     silver       0.0     2018-05-03   25             1\n",
      "10995  2012.0      chrysler 300         excellent  6.0        gas   101669.0  automatic     sedan     black        0.0     2018-05-24   45             1\n",
      "       2011.0      gmc acadia           excellent  6.0        gas   147919.0  automatic     SUV       Unkown       0.0     2018-11-17   12             1\n",
      "                   gmc sierra 1500      excellent  8.0        gas   106000.0  automatic     truck     white        0.0     2019-04-18   22             1\n",
      "                                                                    160708.0  automatic     pickup    Unkown       1.0     2018-06-16   7              1\n",
      "                                                                                                                                                      ..\n",
      "5999   2006.0      ford f-150           excellent  8.0        gas   174000.0  automatic     truck     black        1.0     2018-11-17   11             1\n",
      "                   honda civic          excellent  4.0        gas   151600.0  manual        coupe     blue         0.0     2018-05-08   68             1\n",
      "                   honda odyssey        excellent  6.0        gas   141000.0  automatic     mini-van  black        0.0     2018-12-03   43             1\n",
      "                   toyota highlander    excellent  0.0        gas   134800.0  automatic     SUV       brown        0.0     2018-08-07   39             1\n",
      "67000  2012.0      honda civic          excellent  4.0        gas   108000.0  automatic     coupe     white        0.0     2018-10-06   14             1\n",
      "Name: count, Length: 11204, dtype: int64\n"
     ]
    },
    {
     "data": {
      "image/png": "[encoded data removed]",
      "text/plain": [
       "<Figure size 640x480 with 1 Axes>"
      ]
     },
     "metadata": {},
     "output_type": "display_data"
    }
   ],
   "source": [
    "#the actual value count for excellent condition cars over 100k miles\n",
    "cars_under100 = car_ad_df[(car_ad_df['condition'] == 'excellent') & (car_ad_df['odometer'] >= 100000)].value_counts()\n",
    "\n",
    "print(cars_under100)\n",
    "\n",
    "\n",
    "# Create a scatter plot for 'odometer' vs 'price'\n",
    "car_ad_df.plot(kind='scatter', x='odometer', y='price', alpha=0.5)\n",
    "\n",
    "# Optional: Add titles and labels\n",
    "plt.title('Scatter Plot: Odometer vs Price')\n",
    "plt.xlabel('Odometer Reading')\n",
    "plt.ylabel('Price')\n",
    "\n",
    "# Display the plot\n",
    "plt.show()\n"
   ]
  },
  {
   "cell_type": "markdown",
   "metadata": {},
   "source": [
    "Question 1.) How many cars over 100k miles are in excelllent condition? \n",
    "Answer: there are 4,096 cars that are over 100k miles & in excellent condition out of the 51,525 cars in our database."
   ]
  },
  {
   "cell_type": "markdown",
   "metadata": {},
   "source": [
    "Question 2.) How many cars fit this crtieria: the model year 2010 and over, are a manual transmission, are a truck, suv, or pickup?"
   ]
  },
  {
   "cell_type": "code",
   "execution_count": 59,
   "metadata": {},
   "outputs": [
    {
     "data": {
      "image/png": "[encoded data removed]",
      "text/plain": [
       "<Figure size 640x480 with 1 Axes>"
      ]
     },
     "metadata": {},
     "output_type": "display_data"
    }
   ],
   "source": [
    "cars_q2 = car_ad_df[\n",
    "    (car_ad_df['model_year'] == 2010) & \n",
    "    (car_ad_df['transmission'] == 'manual') & \n",
    "    (car_ad_df['type'].isin(['SUV', 'truck', 'pickup']))\n",
    "]\n",
    "\n",
    "type_counts = cars_q2['type'].value_counts()\n",
    "\n",
    "# Plot a bar chart\n",
    "type_counts.plot(kind='bar', color='skyblue', alpha=0.7)\n",
    "plt.title('Count of Vehicles by Type (2010, Manual Transmission)')\n",
    "plt.xlabel('Vehicle Type')\n",
    "plt.ylabel('Count')\n",
    "plt.xticks(rotation=45)\n",
    "plt.show()"
   ]
  },
  {
   "cell_type": "code",
   "execution_count": 60,
   "metadata": {},
   "outputs": [
    {
     "name": "stdout",
     "output_type": "stream",
     "text": [
      "62\n"
     ]
    }
   ],
   "source": [
    "print(cars_q2.shape[0])"
   ]
  },
  {
   "cell_type": "markdown",
   "metadata": {},
   "source": [
    "Question 2.) How many cars fit this crtieria: the model year 2010 and over, are a manual transmission, are a truck, suv, or pickup?\n",
    "Answer: There are 62 cars in our database that fit this criteria. "
   ]
  },
  {
   "cell_type": "markdown",
   "metadata": {},
   "source": [
    "Question 3.) What's the average amount of days convertibles are listed? \n"
   ]
  },
  {
   "cell_type": "code",
   "execution_count": 61,
   "metadata": {},
   "outputs": [
    {
     "name": "stdout",
     "output_type": "stream",
     "text": [
      "39.19282511210762\n"
     ]
    }
   ],
   "source": [
    "cars_q3 = car_ad_df[car_ad_df['type'] == 'convertible'] \n",
    "cars_q3_av = cars_q3['days_listed'].mean()\n",
    "\n",
    "print(cars_q3_av)\n",
    "\n"
   ]
  },
  {
   "cell_type": "markdown",
   "metadata": {},
   "source": [
    "Question 3.) What's the average amount of days convertibles are listed? \n",
    "Answer: Convertible cars are listed in the database for an average of 39 days. "
   ]
  },
  {
   "cell_type": "code",
   "execution_count": 62,
   "metadata": {},
   "outputs": [
    {
     "name": "stdout",
     "output_type": "stream",
     "text": [
      "46643    25995\n",
      "40888    14900\n",
      "24705    17995\n",
      "19007     7695\n",
      "27286     8500\n",
      "Name: price, dtype: int64\n"
     ]
    }
   ],
   "source": [
    "print(car_ad_df['price'].sample(5))"
   ]
  },
  {
   "cell_type": "markdown",
   "metadata": {},
   "source": [
    "#Question 4 updated hypothesis \n",
    "Question 4.) \n",
    "Hypothesis 1: 'the average odometer value of cars in excellent condition and cars in like new and new condition are the same' \n",
    "Alternate Hypothesis : 'the average odomenter value of cars in excellent condition is less then cars in like new and new condition'"
   ]
  },
  {
   "cell_type": "code",
   "execution_count": 63,
   "metadata": {},
   "outputs": [],
   "source": [
    "\n",
    "\n",
    "\n",
    "alpha = 0.05 \n",
    "\n"
   ]
  },
  {
   "cell_type": "code",
   "execution_count": 64,
   "metadata": {},
   "outputs": [
    {
     "name": "stdout",
     "output_type": "stream",
     "text": [
      "148227.88414851838\n"
     ]
    }
   ],
   "source": [
    "car_under_avr = under_50['odometer'].mean()\n",
    "print(car_under_avr)"
   ]
  },
  {
   "cell_type": "code",
   "execution_count": 65,
   "metadata": {},
   "outputs": [],
   "source": [
    "from scipy import stats as st\n",
    "import numpy as np"
   ]
  },
  {
   "cell_type": "code",
   "execution_count": 66,
   "metadata": {},
   "outputs": [
    {
     "name": "stdout",
     "output_type": "stream",
     "text": [
      "t-statistic: 29.073223621259988\n",
      "p-value: 1.0\n",
      "Fail to reject the null hypothesis.\n"
     ]
    }
   ],
   "source": [
    "#updated t-test approach from question 4 \n",
    "#make 2 distint samples ; cars in excellent condition and cars in like new and new condition \n",
    "\n",
    "cars_ex_q4 = car_ad_df[\n",
    "    (car_ad_df['condition'] == 'excellent') & (car_ad_df['odometer'] )\n",
    "]\n",
    "\n",
    "cars_ln_q4 = car_ad_df[\n",
    "    (car_ad_df['condition'].isin(['like new', 'new'])) & (car_ad_df['odometer'] )\n",
    "]\n",
    "\n",
    "from scipy.stats import ttest_ind\n",
    "\n",
    "result = ttest_ind(\n",
    "    cars_ex_q4['odometer'],  \n",
    "    cars_ln_q4['odometer'],  \n",
    "    alternative='less'       \n",
    ")\n",
    "\n",
    "print('t-statistic:', result.statistic)\n",
    "print('p-value:', result.pvalue)\n",
    "# Check the conclusion\n",
    "if result.pvalue < 0.05:\n",
    "    print(\"Reject the null hypothesis: The average odometer for 'excellent' is less than for 'like new' or 'excellent'.\")\n",
    "else:\n",
    "    print(\"Fail to reject the null hypothesis.\")"
   ]
  },
  {
   "cell_type": "markdown",
   "metadata": {},
   "source": [
    "#Question 4 updated hypothesis \n",
    "Question 4.) \n",
    "Hypothesis 1: 'the average odometer value of cars in excellent condition and cars in like new and new condition are the same' \n",
    "Alternate Hypothesis : 'the average odomenter value of cars in excellent condition is less then cars in like new and new condition'\n",
    "\n",
    "Answer: We can't reject the hypothesis theres no evidence that cars in excellent condition average odometer value is less then cars in like new and new condition"
   ]
  },
  {
   "cell_type": "code",
   "execution_count": 67,
   "metadata": {},
   "outputs": [
    {
     "name": "stdout",
     "output_type": "stream",
     "text": [
      "price  model_year  model                condition  cylinders  fuel  odometer  transmission  type    paint_color  is_4wd  date_posted  days_listed\n",
      "1      0.0         chevrolet silverado  excellent  8.0        gas   140582.0  automatic     truck   silver       0.0     2018-05-03   25             1\n",
      "10995  2012.0      chrysler 300         excellent  6.0        gas   101669.0  automatic     sedan   black        0.0     2018-05-24   45             1\n",
      "       2011.0      gmc acadia           excellent  6.0        gas   147919.0  automatic     SUV     Unkown       0.0     2018-11-17   12             1\n",
      "                   gmc sierra 1500      excellent  8.0        gas   106000.0  automatic     truck   white        0.0     2019-04-18   22             1\n",
      "                                                                    160708.0  automatic     pickup  Unkown       1.0     2018-06-16   7              1\n",
      "Name: count, dtype: int64\n"
     ]
    }
   ],
   "source": [
    "print(cars_under100.head())"
   ]
  },
  {
   "cell_type": "markdown",
   "metadata": {},
   "source": [
    "Question 4.) Hypothesis: there are more cars under 100k miles that are in excellent condition. \n",
    "theory: there is more cars under 100k miles in excellent condition. \n",
    "\n",
    "Answer: We can't reject the null hypothesis: there is more cars under 100k miles in excellent condition."
   ]
  },
  {
   "cell_type": "code",
   "execution_count": 68,
   "metadata": {},
   "outputs": [
    {
     "ename": "FileNotFoundError",
     "evalue": "[Errno 2] No such file or directory: '/Users/macos/Downloads/JOJO’s DEALER LIST.png'",
     "output_type": "error",
     "traceback": [
      "\u001b[0;31m---------------------------------------------------------------------------\u001b[0m",
      "\u001b[0;31mFileNotFoundError\u001b[0m                         Traceback (most recent call last)",
      "Cell \u001b[0;32mIn[68], line 16\u001b[0m\n\u001b[1;32m     10\u001b[0m \u001b[38;5;28;01mfrom\u001b[39;00m \u001b[38;5;21;01mPIL\u001b[39;00m \u001b[38;5;28;01mimport\u001b[39;00m Image\n\u001b[1;32m     12\u001b[0m \u001b[38;5;66;03m#############\u001b[39;00m\n\u001b[1;32m     13\u001b[0m \u001b[38;5;66;03m# Page Title\u001b[39;00m\n\u001b[1;32m     14\u001b[0m \u001b[38;5;66;03m############\u001b[39;00m\n\u001b[0;32m---> 16\u001b[0m image \u001b[38;5;241m=\u001b[39m \u001b[43mImage\u001b[49m\u001b[38;5;241;43m.\u001b[39;49m\u001b[43mopen\u001b[49m\u001b[43m(\u001b[49m\u001b[38;5;124;43m'\u001b[39;49m\u001b[38;5;124;43m/Users/macos/Downloads/JOJO’s DEALER LIST.png\u001b[39;49m\u001b[38;5;124;43m'\u001b[39;49m\u001b[43m)\u001b[49m\n\u001b[1;32m     18\u001b[0m st\u001b[38;5;241m.\u001b[39mmarkdown(\u001b[38;5;124m\"\"\"\u001b[39m\n\u001b[1;32m     19\u001b[0m \u001b[38;5;124m#Our Car Dealership \u001b[39m\n\u001b[1;32m     20\u001b[0m \u001b[38;5;124m         a simple sda project on a car dealership\u001b[39m\n\u001b[1;32m     21\u001b[0m \u001b[38;5;124m         \u001b[39m\n\u001b[1;32m     22\u001b[0m \u001b[38;5;124m         \u001b[39m\n\u001b[1;32m     23\u001b[0m \u001b[38;5;124m         \u001b[39m\u001b[38;5;124m\"\"\"\u001b[39m)\n\u001b[1;32m     25\u001b[0m \u001b[38;5;66;03m##################\u001b[39;00m\n",
      "File \u001b[0;32m/Applications/anaconda3/envs/Car_Ads_WebApp/lib/python3.12/site-packages/PIL/Image.py:3431\u001b[0m, in \u001b[0;36mopen\u001b[0;34m(fp, mode, formats)\u001b[0m\n\u001b[1;32m   3428\u001b[0m     filename \u001b[38;5;241m=\u001b[39m os\u001b[38;5;241m.\u001b[39mpath\u001b[38;5;241m.\u001b[39mrealpath(os\u001b[38;5;241m.\u001b[39mfspath(fp))\n\u001b[1;32m   3430\u001b[0m \u001b[38;5;28;01mif\u001b[39;00m filename:\n\u001b[0;32m-> 3431\u001b[0m     fp \u001b[38;5;241m=\u001b[39m \u001b[43mbuiltins\u001b[49m\u001b[38;5;241;43m.\u001b[39;49m\u001b[43mopen\u001b[49m\u001b[43m(\u001b[49m\u001b[43mfilename\u001b[49m\u001b[43m,\u001b[49m\u001b[43m \u001b[49m\u001b[38;5;124;43m\"\u001b[39;49m\u001b[38;5;124;43mrb\u001b[39;49m\u001b[38;5;124;43m\"\u001b[39;49m\u001b[43m)\u001b[49m\n\u001b[1;32m   3432\u001b[0m     exclusive_fp \u001b[38;5;241m=\u001b[39m \u001b[38;5;28;01mTrue\u001b[39;00m\n\u001b[1;32m   3433\u001b[0m \u001b[38;5;28;01melse\u001b[39;00m:\n",
      "\u001b[0;31mFileNotFoundError\u001b[0m: [Errno 2] No such file or directory: '/Users/macos/Downloads/JOJO’s DEALER LIST.png'"
     ]
    }
   ],
   "source": [
    "##WebAppCode\n",
    "### UPdated Code in The App.py File \n",
    "\n",
    "\n",
    "import streamlit as st\n",
    "import pandas as pd\n",
    "import plotly.express as px\n",
    "import plotly.graph_objects as go\n",
    "\n",
    "from PIL import Image\n",
    "\n",
    "#############\n",
    "# Page Title\n",
    "############\n",
    "\n",
    "image = Image.open('/Users/macos/Downloads/JOJO’s DEALER LIST.png')\n",
    "\n",
    "st.markdown(\"\"\"\n",
    "#Our Car Dealership \n",
    "         a simple sda project on a car dealership\n",
    "         \n",
    "         \n",
    "         \"\"\")\n",
    "\n",
    "##################\n",
    "\n",
    "df = pd.read_csv('/Users/macos/Downloads/vehicles_us.csv')\n",
    "df['manufacturer'] = df['model'].apply(lambda x: x.split()[0])\n",
    "\n",
    "st.header('Data viewer')\n",
    "show_manuf_1k_ads = st.checkbox('Include manufacturers with less than 1000 ads')\n",
    "if not show_manuf_1k_ads:\n",
    "    df = df.groupby('manufacturer').filter(lambda x: len(x) > 1000)\n",
    "\n",
    "st.dataframe(df)\n",
    "st.header('Vehicle types by manufacturer')\n",
    "st.write(px.histogram(df, x='manufacturer', color='type'))\n",
    "st.header('Histogram of `condition` vs `model_year`')\n",
    "\n",
    "# -------------------------------------------------------\n",
    "# histograms in plotly:\n",
    "# fig = go.Figure()\n",
    "# fig.add_trace(go.Histogram(x=df[df['condition']=='good']['model_year'], name='good'))\n",
    "# fig.add_trace(go.Histogram(x=df[df['condition']=='excellent']['model_year'], name='excellent'))\n",
    "# fig.update_layout(barmode='stack')\n",
    "# st.write(fig)\n",
    "# works, but too many lines of code\n",
    "# -------------------------------------------------------\n",
    "\n",
    "# histograms in plotly_express:\n",
    "st.write(px.histogram(df, x='model_year', color='condition'))\n",
    "# a lot more concise!\n",
    "# -------------------------------------------------------\n",
    "\n",
    "st.header('Compare price distribution between manufacturers')\n",
    "manufac_list = sorted(df['manufacturer'].unique())\n",
    "manufacturer_1 = st.selectbox('Select manufacturer 1',\n",
    "                              manufac_list, index=manufac_list.index('chevrolet'))\n",
    "\n",
    "manufacturer_2 = st.selectbox('Select manufacturer 2',\n",
    "                              manufac_list, index=manufac_list.index('hyundai'))\n",
    "mask_filter = (df['manufacturer'] == manufacturer_1) | (df['manufacturer'] == manufacturer_2)\n",
    "df_filtered = df[mask_filter]\n",
    "normalize = st.checkbox('Normalize histogram', value=True)\n",
    "if normalize:\n",
    "    histnorm = 'percent'\n",
    "else:\n",
    "    histnorm = None\n",
    "st.write(px.histogram(df_filtered,\n",
    "                      x='price',\n",
    "                      nbins=30,\n",
    "                      color='manufacturer',\n",
    "                      histnorm=histnorm,\n",
    "                      barmode='overlay'))\n",
    "\n",
    "########\n",
    "#New Web App Function \n",
    "########\n",
    "data_comp = {\n",
    "    'model_year': df['model_year'],\n",
    "    'odometer' : df['odometer']\n",
    "\n",
    "\n",
    "}\n",
    "\n",
    "df_comp = pd.DataFrame(data_comp)\n",
    "\n",
    "# Streamlit App\n",
    "st.header('Compare Vehicle Year to Mileage')\n",
    "\n",
    "\n",
    "# Dropdown for selecting vehicle year\n",
    "veh_list = sorted(df_comp['model_year'].unique())\n",
    "selected_year = st.selectbox('Select vehicle year', veh_list)\n",
    "\n",
    "# Filter the data for the selected year\n",
    "filtered_df_comp = df_comp[df_comp['model_year'] == selected_year]\n",
    "\n",
    "# Display filtered data\n",
    "st.subheader(f\"Vehicles from year {selected_year}\")\n",
    "st.write(filtered_df_comp)\n",
    "\n",
    "# Categorize and display odometer readings\n",
    "st.subheader(\"Mileage Categories\")\n",
    "for index, row in filtered_df_comp.iterrows():\n",
    "    mileage = row['odometer']\n",
    "    if mileage <= 10000:\n",
    "        st.write(f\"Vehicle with mileage {mileage} miles: **Under 10k**\")\n",
    "    elif mileage <= 35000:\n",
    "        st.write(f\"Vehicle with mileage {mileage} miles: **Under 35k**\")\n",
    "    elif mileage <= 50000:\n",
    "        st.write(f\"Vehicle with mileage {mileage} miles: **Under 50k**\")\n",
    "    elif mileage <= 75000:\n",
    "        st.write(f\"Vehicle with mileage {mileage} miles: **Under 75k**\")  \n",
    "    elif mileage <= 100000:\n",
    "        st.write(f\"Vehicle with mileage {mileage} miles: **Under 100k**\")      \n",
    "    else:\n",
    "        st.write(f\"Vehicle with mileage {mileage} miles: **Above 100k**\")\n",
    "\n",
    "\n",
    "\n",
    "###New Web Function###\n",
    "\n",
    "\n",
    "\n",
    "\n",
    "# Streamlit App\n",
    "st.title(\"Vehicle Database Analysis\")\n",
    "\n",
    "# Dropdown for selecting vehicle type\n",
    "vehicle_types_ = df['type'].unique()\n",
    "selected_type_ = st.selectbox(\"Select Vehicle Type\", vehicle_types_, index=0)\n",
    "\n",
    "# Filter the DataFrame based on the selected type\n",
    "filtered_df_no = df[df['type'] == selected_type_]\n",
    "\n",
    "# Display filtered data\n",
    "st.subheader(f\"Vehicles of type '{selected_type_}'\")\n",
    "st.write(filtered_df_no)\n",
    "\n",
    "# Create a bar chart to display the count of vehicles for each model year\n",
    "st.subheader(\"Vehicle Count by Model Year\")\n",
    "if not filtered_df_no.empty:\n",
    "    vehicle_count = filtered_df_no['model_year'].value_counts().reset_index()\n",
    "    vehicle_count.columns = ['model_year', 'count']\n",
    "\n",
    "    # Plot using Plotly\n",
    "    fig = px.bar(\n",
    "        vehicle_count,\n",
    "        x='model_year',\n",
    "        y='count',\n",
    "        title=f\"Number of {selected_type_}s by Model Year\",\n",
    "        labels={'model_year': 'Model Year', 'count': 'Number of Vehicles'},\n",
    "    )\n",
    "    st.plotly_chart(fig)\n",
    "else:\n",
    "    st.write(f\"No vehicles of type '{selected_type_}' found in the database.\")\n",
    "\n",
    "    \n"
   ]
  },
  {
   "cell_type": "code",
   "execution_count": null,
   "metadata": {},
   "outputs": [
    {
     "name": "stdout",
     "output_type": "stream",
     "text": [
      "   price  model_year           model  condition  cylinders fuel  odometer  \\\n",
      "1  25500         NaN      ford f-150       good        6.0  gas   88705.0   \n",
      "2   5500      2013.0  hyundai sonata   like new        4.0  gas  110000.0   \n",
      "3   1500      2003.0      ford f-150       fair        8.0  gas       NaN   \n",
      "6  12990      2015.0    toyota camry  excellent        4.0  gas   79212.0   \n",
      "7  15990      2013.0     honda pilot  excellent        6.0  gas  109473.0   \n",
      "\n",
      "  transmission    type paint_color  is_4wd date_posted  days_listed  \\\n",
      "1    automatic  pickup       white     1.0  2018-10-19           50   \n",
      "2    automatic   sedan         red     NaN  2019-02-07           79   \n",
      "3    automatic  pickup         NaN     NaN  2019-03-22            9   \n",
      "6    automatic   sedan       white     NaN  2018-12-27           73   \n",
      "7    automatic     SUV       black     1.0  2019-01-07           68   \n",
      "\n",
      "  manufacturer  \n",
      "1         ford  \n",
      "2      hyundai  \n",
      "3         ford  \n",
      "6       toyota  \n",
      "7        honda  \n"
     ]
    }
   ],
   "source": [
    "print(df.head())"
   ]
  }
 ],
 "metadata": {
  "kernelspec": {
   "display_name": "Car_Ads_WebApp",
   "language": "python",
   "name": "python3"
  },
  "language_info": {
   "codemirror_mode": {
    "name": "ipython",
    "version": 3
   },
   "file_extension": ".py",
   "mimetype": "text/x-python",
   "name": "python",
   "nbconvert_exporter": "python",
   "pygments_lexer": "ipython3",
   "version": "3.12.7"
  }
 },
 "nbformat": 4,
 "nbformat_minor": 2
}
